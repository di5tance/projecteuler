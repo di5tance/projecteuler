{
  "nbformat": 4,
  "nbformat_minor": 0,
  "metadata": {
    "colab": {
      "provenance": [],
      "include_colab_link": true
    },
    "kernelspec": {
      "name": "python3",
      "display_name": "Python 3"
    },
    "language_info": {
      "name": "python"
    }
  },
  "cells": [
    {
      "cell_type": "markdown",
      "metadata": {
        "id": "view-in-github",
        "colab_type": "text"
      },
      "source": [
        "<a href=\"https://colab.research.google.com/github/di5tance/projecteuler/blob/main/Perse_Coding_Round_1.ipynb\" target=\"_parent\"><img src=\"https://colab.research.google.com/assets/colab-badge.svg\" alt=\"Open In Colab\"/></a>"
      ]
    },
    {
      "cell_type": "code",
      "execution_count": null,
      "metadata": {
        "colab": {
          "base_uri": "https://localhost:8080/"
        },
        "id": "lx45EftzU2Sw",
        "outputId": "d828a66c-bfe4-4822-f4c7-7ee639a85f7c"
      },
      "outputs": [
        {
          "output_type": "stream",
          "name": "stdout",
          "text": [
            "Type greeting: Hi\n",
            "Name: Lucy\n",
            "Hi Lucy\n"
          ]
        }
      ],
      "source": [
        "#Website https://pctc.perse.co.uk/wp-content/uploads/2022/11/pctc-round-1-sample-paper.pdf\n",
        "greeting=input(\"Type greeting: \")\n",
        "name=input(\"Name: \")\n",
        "print(greeting,name)"
      ]
    },
    {
      "cell_type": "code",
      "source": [
        "#Question 2\n",
        "a=int(input(\"First number(Integer): \"))\n",
        "b=int(input(\"Subtracted by(Integer): \"))\n",
        "print(a-b)"
      ],
      "metadata": {
        "colab": {
          "base_uri": "https://localhost:8080/"
        },
        "id": "5AMHw6qhVNR9",
        "outputId": "ae61e58b-34b6-48c2-c4fc-4530bdad1807"
      },
      "execution_count": null,
      "outputs": [
        {
          "output_type": "stream",
          "name": "stdout",
          "text": [
            "First number(Integer): 10\n",
            "Subtracted by(Integer): 5\n",
            "5\n"
          ]
        }
      ]
    },
    {
      "cell_type": "code",
      "source": [
        "word=input(\"Type a word: \")\n",
        "length=len(word)\n",
        "i=1\n",
        "if length <50:\n",
        "  while length*i<30:\n",
        "    i=i+1\n",
        "  print (length)\n",
        "  print (i)\n",
        "  for i in range(i):\n",
        "    print (word,end=\"\")\n",
        "else:\n",
        "  print(\"more than 50 char\")\n",
        "  \n",
        "\n"
      ],
      "metadata": {
        "colab": {
          "base_uri": "https://localhost:8080/"
        },
        "id": "ywd-vosMWPEw",
        "outputId": "459d00af-0184-4059-ad07-2c0912e259fd"
      },
      "execution_count": null,
      "outputs": [
        {
          "output_type": "stream",
          "name": "stdout",
          "text": [
            "Type a word: yey\n",
            "3\n",
            "10\n",
            "yeyyeyyeyyeyyeyyeyyeyyeyyeyyey"
          ]
        }
      ]
    },
    {
      "cell_type": "code",
      "source": [
        "numberChoice=int(input(\"input number: \"))# <- USERINPUT\n",
        "if numberChoice < 0 or numberChoice >100:\n",
        "  print(\"key in between 0 and 100.\")\n",
        "elif numberChoice > 50:\n",
        "  print(\"yes dream big\")\n",
        "else:\n",
        "  print(\"on the small side\")"
      ],
      "metadata": {
        "colab": {
          "base_uri": "https://localhost:8080/"
        },
        "id": "ap6MEdWUaRUT",
        "outputId": "26d0436b-2f19-4c54-8e2d-53befd36d17d"
      },
      "execution_count": null,
      "outputs": [
        {
          "output_type": "stream",
          "name": "stdout",
          "text": [
            "input number: 1\n",
            "on the small side\n"
          ]
        }
      ]
    },
    {
      "cell_type": "code",
      "source": [
        "a=-101\n",
        "b=-101\n",
        "op=0\n",
        "while not -100<a<100:\n",
        "  a=int(input(\"First number: \"))\n",
        "while op!=\"+\" and op!=\"*\":\n",
        "  op=input(\"+ or *? \")\n",
        "while not -100<b<100:\n",
        "  b=int(input(\"Second number: \"))\n",
        "if op==\"+\":\n",
        "  print(a+b)\n",
        "else:\n",
        "  print(a*b)"
      ],
      "metadata": {
        "colab": {
          "base_uri": "https://localhost:8080/"
        },
        "id": "IfAdkzoPboxZ",
        "outputId": "1513f033-99ed-45e1-a36c-93d53a9afc99"
      },
      "execution_count": null,
      "outputs": [
        {
          "output_type": "stream",
          "name": "stdout",
          "text": [
            "First number: 1\n",
            "+ or *? +\n",
            "Second number: 1\n",
            "2\n"
          ]
        }
      ]
    },
    {
      "cell_type": "code",
      "source": [
        "i=1\n",
        "while i<6:\n",
        "  name=input(\"Input name: \")\n",
        "  if name==\"Ellie\":\n",
        "    pos=i\n",
        "  i=i+1\n",
        "print(\"Ellie is in position:\",pos)\n"
      ],
      "metadata": {
        "colab": {
          "base_uri": "https://localhost:8080/"
        },
        "id": "-P7JzgpZdZaH",
        "outputId": "f6eea831-b8ca-4c60-fda5-4a875a4d7442"
      },
      "execution_count": null,
      "outputs": [
        {
          "output_type": "stream",
          "name": "stdout",
          "text": [
            "Input name: Ellie\n",
            "Input name: 3\n",
            "Input name: 5\n",
            "Input name: 24\n",
            "Input name: f\n",
            "Ellie is in position: 1\n"
          ]
        }
      ]
    },
    {
      "cell_type": "code",
      "source": [
        "while len(a)!=1:\n",
        "  a=input(\"First \")\n",
        "while len(b)!=1:\n",
        "  b=input(\"Second \")\n",
        "if a < b:\n",
        "  print (a+b)\n",
        "else:\n",
        "  print(b+a)"
      ],
      "metadata": {
        "colab": {
          "base_uri": "https://localhost:8080/"
        },
        "id": "v4NtAnUHfweo",
        "outputId": "a0397ead-f8a2-4643-aa8d-ce65fd1c8c3f"
      },
      "execution_count": null,
      "outputs": [
        {
          "output_type": "stream",
          "name": "stdout",
          "text": [
            "ab\n"
          ]
        }
      ]
    },
    {
      "cell_type": "code",
      "source": [
        "days=0\n",
        "while not 1<=days<=100:\n",
        "  days=int(input(\"How many days? (between 1 and 100) \"))\n",
        "i=1\n",
        "print (\"\\./\")\n",
        "while i<=days:\n",
        "  print(\".|.\")\n",
        "  i=i+1"
      ],
      "metadata": {
        "colab": {
          "base_uri": "https://localhost:8080/"
        },
        "id": "7iJBhpyPgBKg",
        "outputId": "0099f695-43e1-4feb-f3d2-227bc2eb4fe7"
      },
      "execution_count": null,
      "outputs": [
        {
          "output_type": "stream",
          "name": "stdout",
          "text": [
            "How many days? (between 1 and 100)1\n",
            "\\./\n",
            ".|.\n"
          ]
        }
      ]
    },
    {
      "cell_type": "code",
      "source": [
        "a=input()\n",
        "i=1\n",
        "while i <9:\n",
        "  if (a==\"<\" or i>1) and i<9:\n",
        "    print(\"<\",end=\"\")\n",
        "    i+=1\n",
        "  if (a==\"+\" or i>1) and i<9:\n",
        "    print(\"+\",end=\"\")\n",
        "    i+=1\n",
        "  if (a==\"&\" or i>1) and i<9:\n",
        "    print(\"&\",end=\"\")\n",
        "    i+=1\n",
        "  if (a==\">\" or i>1) and i<9:\n",
        "    print(\">\",end=\"\")\n",
        "    i+=1"
      ],
      "metadata": {
        "id": "BKXueMXIiSuA",
        "colab": {
          "base_uri": "https://localhost:8080/"
        },
        "outputId": "1a0dd577-a4d0-41f6-9987-f4d761ca008b"
      },
      "execution_count": null,
      "outputs": [
        {
          "output_type": "stream",
          "name": "stdout",
          "text": [
            ">\n",
            "><+&><+&"
          ]
        }
      ]
    },
    {
      "cell_type": "code",
      "source": [
        "a=\"\"\n",
        "while len(a)!=6:\n",
        "  a=input()\n",
        "if a.count(\"I\")<2:\n",
        "  print(\"I\")\n",
        "elif a.count(\"M\")<1:\n",
        "  print(\"M\")\n",
        "elif a.count(\"W\")<1:\n",
        "  print(\"W\")\n",
        "else:\n",
        "  print(\"C\")"
      ],
      "metadata": {
        "colab": {
          "base_uri": "https://localhost:8080/"
        },
        "id": "usb32UzmoxlT",
        "outputId": "b560a247-e32f-4aba-9f5f-69265e929f46"
      },
      "execution_count": null,
      "outputs": [
        {
          "output_type": "stream",
          "name": "stdout",
          "text": [
            "IMICWC\n",
            "2\n",
            "C\n"
          ]
        }
      ]
    },
    {
      "cell_type": "code",
      "source": [
        "#test2"
      ],
      "metadata": {
        "id": "un5f6NaIqffI"
      },
      "execution_count": null,
      "outputs": []
    }
  ]
}